{
 "cells": [
  {
   "cell_type": "code",
   "execution_count": 16,
   "source": [
    "import keyword \r\n",
    "print(keyword.kwlist)"
   ],
   "outputs": [
    {
     "output_type": "stream",
     "name": "stdout",
     "text": [
      "['False', 'None', 'True', 'and', 'as', 'assert', 'async', 'await', 'break', 'class', 'continue', 'def', 'del', 'elif', 'else', 'except', 'finally', 'for', 'from', 'global', 'if', 'import', 'in', 'is', 'lambda', 'nonlocal', 'not', 'or', 'pass', 'raise', 'return', 'try', 'while', 'with', 'yield']\n"
     ]
    }
   ],
   "metadata": {}
  },
  {
   "cell_type": "code",
   "execution_count": 17,
   "source": [
    "print(len(keyword.kwlist))"
   ],
   "outputs": [
    {
     "output_type": "stream",
     "name": "stdout",
     "text": [
      "35\n"
     ]
    }
   ],
   "metadata": {}
  },
  {
   "cell_type": "code",
   "execution_count": 18,
   "source": [
    "# rules for writing identifiers \r\n",
    "# 1. identifiers ca be a combiatio of letters in lowercase ( A to Z ) or an underscore( _ ).\r\n",
    "# 2. A identifier cannot start with a digit. '99somename' is invald but 'somename99' is perfectly fine.\r\n",
    "# 3. Keywords cannot be used as identifiers. "
   ],
   "outputs": [],
   "metadata": {}
  },
  {
   "cell_type": "code",
   "execution_count": 19,
   "source": [
    "somename99 = 10\r\n",
    "print(somename99)"
   ],
   "outputs": [
    {
     "output_type": "stream",
     "name": "stdout",
     "text": [
      "10\n"
     ]
    }
   ],
   "metadata": {}
  },
  {
   "cell_type": "code",
   "execution_count": 20,
   "source": [
    "def func(): \r\n",
    "    '''\r\n",
    "    This is a docstring\r\n",
    "    '''\r\n",
    "print(func.__doc__)"
   ],
   "outputs": [
    {
     "output_type": "stream",
     "name": "stdout",
     "text": [
      "\n",
      "    This is a docstring\n",
      "    \n"
     ]
    }
   ],
   "metadata": {}
  },
  {
   "cell_type": "markdown",
   "source": [
    "Advaced Python\r\n",
    "Part - 1 "
   ],
   "metadata": {}
  },
  {
   "cell_type": "code",
   "execution_count": 21,
   "source": [
    "import time \r\n",
    "import numpy as np\r\n",
    "\r\n",
    "size_of_vec =10000000\r\n",
    "\r\n",
    "def pure_python_version():\r\n",
    "    time_python = time.time()\r\n",
    "    my_list1 = range(size_of_vec)\r\n",
    "    my_list2 = range(size_of_vec)\r\n",
    "    sum_list = [my_list1[i] + my_list2[i] for i in range(len(my_list1))]\r\n",
    "    return time.time() - time_python\r\n",
    "\r\n",
    "def numpy_version(): \r\n",
    "    time_numpy = time.time()\r\n",
    "    my_arr1 = np.arange(size_of_vec)\r\n",
    "    my_arr2 = np.arange(size_of_vec)\r\n",
    "    sum_array = my_arr1 + my_arr2\r\n",
    "    return time.time() - time_numpy\r\n",
    "\r\n",
    "python_time = pure_python_version()\r\n",
    "numpy_time = numpy_version()\r\n",
    "print(\"Pure python version {:0.4f} \" .format(python_time))\r\n",
    "print(\"Numpy version : {:0.4f} : \" .format(numpy_time))\r\n",
    "print(\"Numpy is in this example {:0.4f} time faster  \" .format(python_time/numpy_time))"
   ],
   "outputs": [
    {
     "output_type": "stream",
     "name": "stdout",
     "text": [
      "Pure python version 9.7399 \n",
      "Numpy version : 0.1313 : \n",
      "Numpy is in this example 74.1536 time faster  \n"
     ]
    }
   ],
   "metadata": {}
  },
  {
   "cell_type": "markdown",
   "source": [
    "Takeaway : Numpy is much faster than Python list ( 62 times of more )"
   ],
   "metadata": {}
  },
  {
   "cell_type": "code",
   "execution_count": 22,
   "source": [
    "import numpy as np \r\n",
    "# importing numpy as np , so instead of using numpy, will use 'np'\r\n",
    "\r\n",
    "# key feature of numpy array \r\n",
    "# 1. can create n-dimension array in numpy array \r\n",
    "# 2. Allows you to have large number of arrays, datas , and will compute it really fast \r\n",
    "\r\n",
    "my_list = [1,2,3,4]\r\n",
    "my_list \r\n"
   ],
   "outputs": [
    {
     "output_type": "execute_result",
     "data": {
      "text/plain": [
       "[1, 2, 3, 4]"
      ]
     },
     "metadata": {},
     "execution_count": 22
    }
   ],
   "metadata": {}
  },
  {
   "cell_type": "code",
   "execution_count": 23,
   "source": [
    "type(my_list)"
   ],
   "outputs": [
    {
     "output_type": "execute_result",
     "data": {
      "text/plain": [
       "list"
      ]
     },
     "metadata": {},
     "execution_count": 23
    }
   ],
   "metadata": {}
  },
  {
   "cell_type": "code",
   "execution_count": 24,
   "source": [
    "arr = np.array(my_list)\r\n",
    "arr"
   ],
   "outputs": [
    {
     "output_type": "execute_result",
     "data": {
      "text/plain": [
       "array([1, 2, 3, 4])"
      ]
     },
     "metadata": {},
     "execution_count": 24
    }
   ],
   "metadata": {}
  },
  {
   "cell_type": "code",
   "execution_count": 25,
   "source": [
    "type(arr)\r\n",
    "# displayig the data type of arr - will retur numpy.ndarray"
   ],
   "outputs": [
    {
     "output_type": "execute_result",
     "data": {
      "text/plain": [
       "numpy.ndarray"
      ]
     },
     "metadata": {},
     "execution_count": 25
    }
   ],
   "metadata": {}
  },
  {
   "cell_type": "code",
   "execution_count": 29,
   "source": [
    "my_mat = [[1,2,3] , [4,5,6] , [7,8,9]]\r\n",
    "my_mat"
   ],
   "outputs": [
    {
     "output_type": "execute_result",
     "data": {
      "text/plain": [
       "[[1, 2, 3], [4, 5, 6], [7, 8, 9]]"
      ]
     },
     "metadata": {},
     "execution_count": 29
    }
   ],
   "metadata": {}
  },
  {
   "cell_type": "code",
   "execution_count": 28,
   "source": [
    "mat = np.array(my_mat)\r\n",
    "mat"
   ],
   "outputs": [
    {
     "output_type": "execute_result",
     "data": {
      "text/plain": [
       "array([[1, 2, 3],\n",
       "       [4, 5, 6],\n",
       "       [7, 8, 9]])"
      ]
     },
     "metadata": {},
     "execution_count": 28
    }
   ],
   "metadata": {}
  },
  {
   "cell_type": "code",
   "execution_count": 30,
   "source": [
    "type(mat)"
   ],
   "outputs": [
    {
     "output_type": "execute_result",
     "data": {
      "text/plain": [
       "numpy.ndarray"
      ]
     },
     "metadata": {},
     "execution_count": 30
    }
   ],
   "metadata": {}
  },
  {
   "cell_type": "code",
   "execution_count": 31,
   "source": [
    "arr.shape\r\n",
    "# the shape of the array  - order of the matrix ( 4 rows and 0 colums )"
   ],
   "outputs": [
    {
     "output_type": "execute_result",
     "data": {
      "text/plain": [
       "(4,)"
      ]
     },
     "metadata": {},
     "execution_count": 31
    }
   ],
   "metadata": {}
  },
  {
   "cell_type": "code",
   "execution_count": 33,
   "source": [
    "mat.shape\r\n",
    "# the shape of mat- order of mat - 3 x 3 \r\n",
    "# 3 rows and 3 columns "
   ],
   "outputs": [
    {
     "output_type": "execute_result",
     "data": {
      "text/plain": [
       "(3, 3)"
      ]
     },
     "metadata": {},
     "execution_count": 33
    }
   ],
   "metadata": {}
  },
  {
   "cell_type": "code",
   "execution_count": 35,
   "source": [
    "arr.dtype\r\n",
    "# dtype - gives you what type of data is stored in the list / array \r\n",
    "# int32 - integer with byte size of 32 "
   ],
   "outputs": [
    {
     "output_type": "execute_result",
     "data": {
      "text/plain": [
       "dtype('int32')"
      ]
     },
     "metadata": {},
     "execution_count": 35
    }
   ],
   "metadata": {}
  },
  {
   "cell_type": "code",
   "execution_count": 36,
   "source": [
    "mat.dtype\r\n",
    "# dtype - gives you what type of data is stored in the list / array \r\n",
    "# int32 - integer with byte size of 32 "
   ],
   "outputs": [
    {
     "output_type": "execute_result",
     "data": {
      "text/plain": [
       "dtype('int32')"
      ]
     },
     "metadata": {},
     "execution_count": 36
    }
   ],
   "metadata": {}
  },
  {
   "cell_type": "code",
   "execution_count": 37,
   "source": [
    "np.arange(0,10)\r\n",
    "# arange()   - gives you the numpy range \r\n",
    "# similar to range()  but faster than that \r\n",
    "# arange(0,10) - prints numbers from 0 to 9 - total 10 numbers "
   ],
   "outputs": [
    {
     "output_type": "execute_result",
     "data": {
      "text/plain": [
       "array([0, 1, 2, 3, 4, 5, 6, 7, 8, 9])"
      ]
     },
     "metadata": {},
     "execution_count": 37
    }
   ],
   "metadata": {}
  },
  {
   "cell_type": "code",
   "execution_count": 42,
   "source": [
    "# using stepsize in arange()\r\n",
    "np.arange(0,10,3)\r\n",
    "# prints the range - form 0 to 9\r\n",
    "# with a step of 3 \r\n",
    "# default syntax - np.arange(start , stop , step)\r\n",
    "# if step is not specified , then the step size if 1 by default "
   ],
   "outputs": [
    {
     "output_type": "execute_result",
     "data": {
      "text/plain": [
       "array([0, 3, 6, 9])"
      ]
     },
     "metadata": {},
     "execution_count": 42
    }
   ],
   "metadata": {}
  },
  {
   "cell_type": "code",
   "execution_count": 43,
   "source": [
    "np.arange(0,10,1)\r\n",
    "# same to \r\n",
    "# np.arange(0,10)"
   ],
   "outputs": [
    {
     "output_type": "execute_result",
     "data": {
      "text/plain": [
       "array([0, 1, 2, 3, 4, 5, 6, 7, 8, 9])"
      ]
     },
     "metadata": {},
     "execution_count": 43
    }
   ],
   "metadata": {}
  },
  {
   "cell_type": "code",
   "execution_count": 44,
   "source": [
    "np.zeros(4)\r\n",
    "# fills an nparray with 4 zeros \r\n",
    "# the matrix will then be of the order - 1 x 4 ( 1 row and 4 columns )"
   ],
   "outputs": [
    {
     "output_type": "execute_result",
     "data": {
      "text/plain": [
       "array([0., 0., 0., 0.])"
      ]
     },
     "metadata": {},
     "execution_count": 44
    }
   ],
   "metadata": {}
  },
  {
   "cell_type": "code",
   "execution_count": 47,
   "source": [
    "np.zeros((3,3))\r\n",
    "# fills the nparray with 3*3 = 9 zeros \r\n",
    "# the order of the nparray will then be - 3 x 3 - (3 rows and 3 columns)\r\n",
    "# the firt 4 is the column , if the rows is not specified , the by defult , it is set o\r\n",
    "# to 1 \r\n",
    "# the secod 4 is the number of rows "
   ],
   "outputs": [
    {
     "output_type": "execute_result",
     "data": {
      "text/plain": [
       "array([[0., 0., 0.],\n",
       "       [0., 0., 0.],\n",
       "       [0., 0., 0.]])"
      ]
     },
     "metadata": {},
     "execution_count": 47
    }
   ],
   "metadata": {}
  }
 ],
 "metadata": {
  "orig_nbformat": 4,
  "language_info": {
   "name": "python",
   "version": "3.8.10",
   "mimetype": "text/x-python",
   "codemirror_mode": {
    "name": "ipython",
    "version": 3
   },
   "pygments_lexer": "ipython3",
   "nbconvert_exporter": "python",
   "file_extension": ".py"
  },
  "kernelspec": {
   "name": "python3",
   "display_name": "Python 3.8.10 64-bit"
  },
  "interpreter": {
   "hash": "e404b59586357c814bc0d3940e75d6763c00a48753b225b81f7716971b8e1741"
  }
 },
 "nbformat": 4,
 "nbformat_minor": 2
}